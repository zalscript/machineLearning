{
  "nbformat": 4,
  "nbformat_minor": 0,
  "metadata": {
    "colab": {
      "provenance": []
    },
    "kernelspec": {
      "name": "python3",
      "display_name": "Python 3"
    },
    "language_info": {
      "name": "python"
    }
  },
  "cells": [
    {
      "cell_type": "markdown",
      "source": [
        "#1. Data Preparation\n",
        "- Mengunduh dataset MovieLens 100k dari GroupLens.\n",
        "- Mengimpor data ratings dan movies, lalu menggabungkannya berdasarkan movie_id.\n",
        "- Membersihkan data dengan memastikan tidak ada nilai kosong yang mengganggu analisis."
      ],
      "metadata": {
        "id": "2dQCRS-YXyhG"
      }
    },
    {
      "cell_type": "code",
      "execution_count": 2,
      "metadata": {
        "id": "5DPavwHdS__0"
      },
      "outputs": [],
      "source": [
        "#Import Library\n",
        "import pandas as pd"
      ]
    },
    {
      "cell_type": "code",
      "source": [
        "# Load ratings dan movies\n",
        "ratings = pd.read_csv('u.data', sep='\\t', names=['user_id', 'movie_id', 'rating', 'timestamp'])\n",
        "movies = pd.read_csv('u.item', sep='|', encoding='latin-1', header=None,\n",
        "                     names=['movie_id', 'title', 'release_date', 'video_release_date', 'IMDb_URL',\n",
        "                            'unknown', 'Action', 'Adventure', 'Animation', \"Children's\", 'Comedy', 'Crime',\n",
        "                            'Documentary', 'Drama', 'Fantasy', 'Film-Noir', 'Horror', 'Musical', 'Mystery',\n",
        "                            'Romance', 'Sci-Fi', 'Thriller', 'War', 'Western'])\n",
        "\n",
        "# Gabungkan data ratings dan movies\n",
        "df = pd.merge(ratings, movies[['movie_id', 'title']], on='movie_id')\n",
        "df.head()"
      ],
      "metadata": {
        "colab": {
          "base_uri": "https://localhost:8080/",
          "height": 206
        },
        "id": "DC91Gg0zV-GQ",
        "outputId": "b8f2536e-46d5-467e-8d0a-8dcea68c856e"
      },
      "execution_count": 13,
      "outputs": [
        {
          "output_type": "execute_result",
          "data": {
            "text/plain": [
              "   user_id  movie_id  rating  timestamp                       title\n",
              "0      196       242       3  881250949                Kolya (1996)\n",
              "1      186       302       3  891717742    L.A. Confidential (1997)\n",
              "2       22       377       1  878887116         Heavyweights (1994)\n",
              "3      244        51       2  880606923  Legends of the Fall (1994)\n",
              "4      166       346       1  886397596         Jackie Brown (1997)"
            ],
            "text/html": [
              "\n",
              "  <div id=\"df-c373c124-d5d8-46b1-8841-a921508a9b82\" class=\"colab-df-container\">\n",
              "    <div>\n",
              "<style scoped>\n",
              "    .dataframe tbody tr th:only-of-type {\n",
              "        vertical-align: middle;\n",
              "    }\n",
              "\n",
              "    .dataframe tbody tr th {\n",
              "        vertical-align: top;\n",
              "    }\n",
              "\n",
              "    .dataframe thead th {\n",
              "        text-align: right;\n",
              "    }\n",
              "</style>\n",
              "<table border=\"1\" class=\"dataframe\">\n",
              "  <thead>\n",
              "    <tr style=\"text-align: right;\">\n",
              "      <th></th>\n",
              "      <th>user_id</th>\n",
              "      <th>movie_id</th>\n",
              "      <th>rating</th>\n",
              "      <th>timestamp</th>\n",
              "      <th>title</th>\n",
              "    </tr>\n",
              "  </thead>\n",
              "  <tbody>\n",
              "    <tr>\n",
              "      <th>0</th>\n",
              "      <td>196</td>\n",
              "      <td>242</td>\n",
              "      <td>3</td>\n",
              "      <td>881250949</td>\n",
              "      <td>Kolya (1996)</td>\n",
              "    </tr>\n",
              "    <tr>\n",
              "      <th>1</th>\n",
              "      <td>186</td>\n",
              "      <td>302</td>\n",
              "      <td>3</td>\n",
              "      <td>891717742</td>\n",
              "      <td>L.A. Confidential (1997)</td>\n",
              "    </tr>\n",
              "    <tr>\n",
              "      <th>2</th>\n",
              "      <td>22</td>\n",
              "      <td>377</td>\n",
              "      <td>1</td>\n",
              "      <td>878887116</td>\n",
              "      <td>Heavyweights (1994)</td>\n",
              "    </tr>\n",
              "    <tr>\n",
              "      <th>3</th>\n",
              "      <td>244</td>\n",
              "      <td>51</td>\n",
              "      <td>2</td>\n",
              "      <td>880606923</td>\n",
              "      <td>Legends of the Fall (1994)</td>\n",
              "    </tr>\n",
              "    <tr>\n",
              "      <th>4</th>\n",
              "      <td>166</td>\n",
              "      <td>346</td>\n",
              "      <td>1</td>\n",
              "      <td>886397596</td>\n",
              "      <td>Jackie Brown (1997)</td>\n",
              "    </tr>\n",
              "  </tbody>\n",
              "</table>\n",
              "</div>\n",
              "    <div class=\"colab-df-buttons\">\n",
              "\n",
              "  <div class=\"colab-df-container\">\n",
              "    <button class=\"colab-df-convert\" onclick=\"convertToInteractive('df-c373c124-d5d8-46b1-8841-a921508a9b82')\"\n",
              "            title=\"Convert this dataframe to an interactive table.\"\n",
              "            style=\"display:none;\">\n",
              "\n",
              "  <svg xmlns=\"http://www.w3.org/2000/svg\" height=\"24px\" viewBox=\"0 -960 960 960\">\n",
              "    <path d=\"M120-120v-720h720v720H120Zm60-500h600v-160H180v160Zm220 220h160v-160H400v160Zm0 220h160v-160H400v160ZM180-400h160v-160H180v160Zm440 0h160v-160H620v160ZM180-180h160v-160H180v160Zm440 0h160v-160H620v160Z\"/>\n",
              "  </svg>\n",
              "    </button>\n",
              "\n",
              "  <style>\n",
              "    .colab-df-container {\n",
              "      display:flex;\n",
              "      gap: 12px;\n",
              "    }\n",
              "\n",
              "    .colab-df-convert {\n",
              "      background-color: #E8F0FE;\n",
              "      border: none;\n",
              "      border-radius: 50%;\n",
              "      cursor: pointer;\n",
              "      display: none;\n",
              "      fill: #1967D2;\n",
              "      height: 32px;\n",
              "      padding: 0 0 0 0;\n",
              "      width: 32px;\n",
              "    }\n",
              "\n",
              "    .colab-df-convert:hover {\n",
              "      background-color: #E2EBFA;\n",
              "      box-shadow: 0px 1px 2px rgba(60, 64, 67, 0.3), 0px 1px 3px 1px rgba(60, 64, 67, 0.15);\n",
              "      fill: #174EA6;\n",
              "    }\n",
              "\n",
              "    .colab-df-buttons div {\n",
              "      margin-bottom: 4px;\n",
              "    }\n",
              "\n",
              "    [theme=dark] .colab-df-convert {\n",
              "      background-color: #3B4455;\n",
              "      fill: #D2E3FC;\n",
              "    }\n",
              "\n",
              "    [theme=dark] .colab-df-convert:hover {\n",
              "      background-color: #434B5C;\n",
              "      box-shadow: 0px 1px 3px 1px rgba(0, 0, 0, 0.15);\n",
              "      filter: drop-shadow(0px 1px 2px rgba(0, 0, 0, 0.3));\n",
              "      fill: #FFFFFF;\n",
              "    }\n",
              "  </style>\n",
              "\n",
              "    <script>\n",
              "      const buttonEl =\n",
              "        document.querySelector('#df-c373c124-d5d8-46b1-8841-a921508a9b82 button.colab-df-convert');\n",
              "      buttonEl.style.display =\n",
              "        google.colab.kernel.accessAllowed ? 'block' : 'none';\n",
              "\n",
              "      async function convertToInteractive(key) {\n",
              "        const element = document.querySelector('#df-c373c124-d5d8-46b1-8841-a921508a9b82');\n",
              "        const dataTable =\n",
              "          await google.colab.kernel.invokeFunction('convertToInteractive',\n",
              "                                                    [key], {});\n",
              "        if (!dataTable) return;\n",
              "\n",
              "        const docLinkHtml = 'Like what you see? Visit the ' +\n",
              "          '<a target=\"_blank\" href=https://colab.research.google.com/notebooks/data_table.ipynb>data table notebook</a>'\n",
              "          + ' to learn more about interactive tables.';\n",
              "        element.innerHTML = '';\n",
              "        dataTable['output_type'] = 'display_data';\n",
              "        await google.colab.output.renderOutput(dataTable, element);\n",
              "        const docLink = document.createElement('div');\n",
              "        docLink.innerHTML = docLinkHtml;\n",
              "        element.appendChild(docLink);\n",
              "      }\n",
              "    </script>\n",
              "  </div>\n",
              "\n",
              "\n",
              "    <div id=\"df-727e2867-925e-4992-b0e7-d9d146a2b6b6\">\n",
              "      <button class=\"colab-df-quickchart\" onclick=\"quickchart('df-727e2867-925e-4992-b0e7-d9d146a2b6b6')\"\n",
              "                title=\"Suggest charts\"\n",
              "                style=\"display:none;\">\n",
              "\n",
              "<svg xmlns=\"http://www.w3.org/2000/svg\" height=\"24px\"viewBox=\"0 0 24 24\"\n",
              "     width=\"24px\">\n",
              "    <g>\n",
              "        <path d=\"M19 3H5c-1.1 0-2 .9-2 2v14c0 1.1.9 2 2 2h14c1.1 0 2-.9 2-2V5c0-1.1-.9-2-2-2zM9 17H7v-7h2v7zm4 0h-2V7h2v10zm4 0h-2v-4h2v4z\"/>\n",
              "    </g>\n",
              "</svg>\n",
              "      </button>\n",
              "\n",
              "<style>\n",
              "  .colab-df-quickchart {\n",
              "      --bg-color: #E8F0FE;\n",
              "      --fill-color: #1967D2;\n",
              "      --hover-bg-color: #E2EBFA;\n",
              "      --hover-fill-color: #174EA6;\n",
              "      --disabled-fill-color: #AAA;\n",
              "      --disabled-bg-color: #DDD;\n",
              "  }\n",
              "\n",
              "  [theme=dark] .colab-df-quickchart {\n",
              "      --bg-color: #3B4455;\n",
              "      --fill-color: #D2E3FC;\n",
              "      --hover-bg-color: #434B5C;\n",
              "      --hover-fill-color: #FFFFFF;\n",
              "      --disabled-bg-color: #3B4455;\n",
              "      --disabled-fill-color: #666;\n",
              "  }\n",
              "\n",
              "  .colab-df-quickchart {\n",
              "    background-color: var(--bg-color);\n",
              "    border: none;\n",
              "    border-radius: 50%;\n",
              "    cursor: pointer;\n",
              "    display: none;\n",
              "    fill: var(--fill-color);\n",
              "    height: 32px;\n",
              "    padding: 0;\n",
              "    width: 32px;\n",
              "  }\n",
              "\n",
              "  .colab-df-quickchart:hover {\n",
              "    background-color: var(--hover-bg-color);\n",
              "    box-shadow: 0 1px 2px rgba(60, 64, 67, 0.3), 0 1px 3px 1px rgba(60, 64, 67, 0.15);\n",
              "    fill: var(--button-hover-fill-color);\n",
              "  }\n",
              "\n",
              "  .colab-df-quickchart-complete:disabled,\n",
              "  .colab-df-quickchart-complete:disabled:hover {\n",
              "    background-color: var(--disabled-bg-color);\n",
              "    fill: var(--disabled-fill-color);\n",
              "    box-shadow: none;\n",
              "  }\n",
              "\n",
              "  .colab-df-spinner {\n",
              "    border: 2px solid var(--fill-color);\n",
              "    border-color: transparent;\n",
              "    border-bottom-color: var(--fill-color);\n",
              "    animation:\n",
              "      spin 1s steps(1) infinite;\n",
              "  }\n",
              "\n",
              "  @keyframes spin {\n",
              "    0% {\n",
              "      border-color: transparent;\n",
              "      border-bottom-color: var(--fill-color);\n",
              "      border-left-color: var(--fill-color);\n",
              "    }\n",
              "    20% {\n",
              "      border-color: transparent;\n",
              "      border-left-color: var(--fill-color);\n",
              "      border-top-color: var(--fill-color);\n",
              "    }\n",
              "    30% {\n",
              "      border-color: transparent;\n",
              "      border-left-color: var(--fill-color);\n",
              "      border-top-color: var(--fill-color);\n",
              "      border-right-color: var(--fill-color);\n",
              "    }\n",
              "    40% {\n",
              "      border-color: transparent;\n",
              "      border-right-color: var(--fill-color);\n",
              "      border-top-color: var(--fill-color);\n",
              "    }\n",
              "    60% {\n",
              "      border-color: transparent;\n",
              "      border-right-color: var(--fill-color);\n",
              "    }\n",
              "    80% {\n",
              "      border-color: transparent;\n",
              "      border-right-color: var(--fill-color);\n",
              "      border-bottom-color: var(--fill-color);\n",
              "    }\n",
              "    90% {\n",
              "      border-color: transparent;\n",
              "      border-bottom-color: var(--fill-color);\n",
              "    }\n",
              "  }\n",
              "</style>\n",
              "\n",
              "      <script>\n",
              "        async function quickchart(key) {\n",
              "          const quickchartButtonEl =\n",
              "            document.querySelector('#' + key + ' button');\n",
              "          quickchartButtonEl.disabled = true;  // To prevent multiple clicks.\n",
              "          quickchartButtonEl.classList.add('colab-df-spinner');\n",
              "          try {\n",
              "            const charts = await google.colab.kernel.invokeFunction(\n",
              "                'suggestCharts', [key], {});\n",
              "          } catch (error) {\n",
              "            console.error('Error during call to suggestCharts:', error);\n",
              "          }\n",
              "          quickchartButtonEl.classList.remove('colab-df-spinner');\n",
              "          quickchartButtonEl.classList.add('colab-df-quickchart-complete');\n",
              "        }\n",
              "        (() => {\n",
              "          let quickchartButtonEl =\n",
              "            document.querySelector('#df-727e2867-925e-4992-b0e7-d9d146a2b6b6 button');\n",
              "          quickchartButtonEl.style.display =\n",
              "            google.colab.kernel.accessAllowed ? 'block' : 'none';\n",
              "        })();\n",
              "      </script>\n",
              "    </div>\n",
              "\n",
              "    </div>\n",
              "  </div>\n"
            ],
            "application/vnd.google.colaboratory.intrinsic+json": {
              "type": "dataframe",
              "variable_name": "df",
              "summary": "{\n  \"name\": \"df\",\n  \"rows\": 100000,\n  \"fields\": [\n    {\n      \"column\": \"user_id\",\n      \"properties\": {\n        \"dtype\": \"number\",\n        \"std\": 266,\n        \"min\": 1,\n        \"max\": 943,\n        \"num_unique_values\": 943,\n        \"samples\": [\n          262,\n          136,\n          821\n        ],\n        \"semantic_type\": \"\",\n        \"description\": \"\"\n      }\n    },\n    {\n      \"column\": \"movie_id\",\n      \"properties\": {\n        \"dtype\": \"number\",\n        \"std\": 330,\n        \"min\": 1,\n        \"max\": 1682,\n        \"num_unique_values\": 1682,\n        \"samples\": [\n          1557,\n          808,\n          1618\n        ],\n        \"semantic_type\": \"\",\n        \"description\": \"\"\n      }\n    },\n    {\n      \"column\": \"rating\",\n      \"properties\": {\n        \"dtype\": \"number\",\n        \"std\": 1,\n        \"min\": 1,\n        \"max\": 5,\n        \"num_unique_values\": 5,\n        \"samples\": [\n          1,\n          5,\n          2\n        ],\n        \"semantic_type\": \"\",\n        \"description\": \"\"\n      }\n    },\n    {\n      \"column\": \"timestamp\",\n      \"properties\": {\n        \"dtype\": \"number\",\n        \"std\": 5343856,\n        \"min\": 874724710,\n        \"max\": 893286638,\n        \"num_unique_values\": 49282,\n        \"samples\": [\n          889728713,\n          888443306,\n          880605158\n        ],\n        \"semantic_type\": \"\",\n        \"description\": \"\"\n      }\n    },\n    {\n      \"column\": \"title\",\n      \"properties\": {\n        \"dtype\": \"category\",\n        \"num_unique_values\": 1664,\n        \"samples\": [\n          \"House Party 3 (1994)\",\n          \"Three Colors: White (1994)\",\n          \"Fish Called Wanda, A (1988)\"\n        ],\n        \"semantic_type\": \"\",\n        \"description\": \"\"\n      }\n    }\n  ]\n}"
            }
          },
          "metadata": {},
          "execution_count": 13
        }
      ]
    },
    {
      "cell_type": "markdown",
      "source": [
        "#2. Data Analysis\n",
        "- Menampilkan jumlah total pengguna, jumlah film unik, dan distribusi rating (1–5).\n",
        "- Mengecek pengguna atau film dengan jumlah rating yang sangat sedikit untuk menghindari data outlier yang bisa mempengaruhi hasil rekomendasi."
      ],
      "metadata": {
        "id": "ezWiJRZEXT-R"
      }
    },
    {
      "cell_type": "code",
      "source": [
        "# Jumlah pengguna dan film\n",
        "num_users = df['user_id'].nunique()\n",
        "num_movies = df['movie_id'].nunique()\n",
        "print(f\"Jumlah pengguna: {num_users}\")\n",
        "print(f\"Jumlah film: {num_movies}\")\n",
        "\n",
        "# Distribusi rating\n",
        "print(\"\\nDistribusi Rating:\")\n",
        "print(df['rating'].value_counts().sort_index())\n",
        "\n",
        "# Film dan pengguna dengan sedikit rating\n",
        "user_rating_count = df.groupby('user_id').size()\n",
        "movie_rating_count = df.groupby('movie_id').size()\n",
        "\n",
        "print(f\"\\nPengguna dengan <20 rating: {(user_rating_count < 20).sum()} pengguna\")\n",
        "print(f\"Film dengan <20 rating: {(movie_rating_count < 20).sum()} film\")"
      ],
      "metadata": {
        "colab": {
          "base_uri": "https://localhost:8080/"
        },
        "id": "7PoZLm0MVhTx",
        "outputId": "24f6d490-cc40-40b3-ce3c-05fa3039059e"
      },
      "execution_count": 8,
      "outputs": [
        {
          "output_type": "stream",
          "name": "stdout",
          "text": [
            "Jumlah pengguna: 943\n",
            "Jumlah film: 1682\n",
            "\n",
            "Distribusi Rating:\n",
            "rating\n",
            "1     6110\n",
            "2    11370\n",
            "3    27145\n",
            "4    34174\n",
            "5    21201\n",
            "Name: count, dtype: int64\n",
            "\n",
            "Pengguna dengan <20 rating: 0 pengguna\n",
            "Film dengan <20 rating: 743 film\n"
          ]
        }
      ]
    },
    {
      "cell_type": "markdown",
      "source": [
        "#3. Recomendation Method\n",
        "- Menggunakan User-Based Collaborative Filtering dengan pendekatan cosine similarity antar pengguna.\n",
        "- Membuat matriks rating pengguna dan menghitung kemiripan antar pengguna.\n",
        "- Memberikan rekomendasi film untuk user ID 28 berdasarkan rating dari pengguna yang paling mirip dengannya."
      ],
      "metadata": {
        "id": "QqSTy0yHYAR3"
      }
    },
    {
      "cell_type": "markdown",
      "source": [
        "## **User-Based Collaborative Filtering**"
      ],
      "metadata": {
        "id": "RD_jfChpfbhh"
      }
    },
    {
      "cell_type": "code",
      "source": [
        "#Import Library\n",
        "from sklearn.metrics.pairwise import cosine_similarity\n",
        "import numpy as np\n"
      ],
      "metadata": {
        "id": "fJVciwDXcXKI"
      },
      "execution_count": 19,
      "outputs": []
    },
    {
      "cell_type": "code",
      "source": [
        "# Buat matrix rating\n",
        "user_movie_matrix = df.pivot_table(index='user_id', columns='title', values='rating')\n",
        "\n",
        "# Hitung similarity antar pengguna\n",
        "user_similarity = cosine_similarity(user_movie_matrix.fillna(0))\n",
        "user_similarity_df = pd.DataFrame(user_similarity, index=user_movie_matrix.index, columns=user_movie_matrix.index)\n",
        "\n",
        "# Fungsi rekomendasi untuk user\n",
        "def recommend_movies_user_based(user_id, n_recommendations=5):\n",
        "    similar_users = user_similarity_df[user_id].sort_values(ascending=False)[1:6]\n",
        "    user_ratings = user_movie_matrix.loc[user_id]\n",
        "    weighted_scores = {}\n",
        "\n",
        "    for other_user, similarity in similar_users.items():\n",
        "        other_ratings = user_movie_matrix.loc[other_user]\n",
        "        for movie in user_movie_matrix.columns:\n",
        "            if pd.isna(user_ratings[movie]) and not pd.isna(other_ratings[movie]):\n",
        "                if movie not in weighted_scores:\n",
        "                    weighted_scores[movie] = 0\n",
        "                weighted_scores[movie] += similarity * other_ratings[movie]\n",
        "\n",
        "    recommendations = sorted(weighted_scores.items(), key=lambda x: x[1], reverse=True)[:n_recommendations]\n",
        "    return [movie for movie, score in recommendations]"
      ],
      "metadata": {
        "colab": {
          "base_uri": "https://localhost:8080/"
        },
        "id": "BJ3LTPQabMqE",
        "outputId": "aa064baa-dae3-4107-d024-87a320fcbc27"
      },
      "execution_count": 18,
      "outputs": [
        {
          "output_type": "stream",
          "name": "stdout",
          "text": [
            "Rekomendasi untuk user ID 28 (User-Based):\n",
            "1. Alien (1979)\n",
            "2. Natural Born Killers (1994)\n",
            "3. From Dusk Till Dawn (1996)\n",
            "4. Tales from the Crypt Presents: Bordello of Blood (1996)\n",
            "5. Fifth Element, The (1997)\n"
          ]
        }
      ]
    },
    {
      "cell_type": "markdown",
      "source": [
        "# 4. System Evaluation\n",
        "- Menampilkan 5 rekomendasi film untuk user ID 28.\n",
        "- Mengevaluasi hasil secara deskriptif dengan menganalisis genre film, pola kesamaan pengguna, dan kesesuaian rekomendasi dengan preferensi user yang mirip."
      ],
      "metadata": {
        "id": "u32CpeZhdSxc"
      }
    },
    {
      "cell_type": "markdown",
      "source": [
        "## Rekomendasi:"
      ],
      "metadata": {
        "id": "Bakuwylzd4Q7"
      }
    },
    {
      "cell_type": "code",
      "source": [
        "print(\"Rekomendasi untuk user ID 28 (User-Based):\")\n",
        "for i, title in enumerate(recommend_movies_user_based(28), start=1):\n",
        "    print(f\"{i}. {title}\")"
      ],
      "metadata": {
        "colab": {
          "base_uri": "https://localhost:8080/"
        },
        "id": "-PsfwwtUdRXS",
        "outputId": "7ed4564e-d8c3-4ed0-fc2b-e690223f7514"
      },
      "execution_count": 20,
      "outputs": [
        {
          "output_type": "stream",
          "name": "stdout",
          "text": [
            "Rekomendasi untuk user ID 28 (User-Based):\n",
            "1. Alien (1979)\n",
            "2. Natural Born Killers (1994)\n",
            "3. From Dusk Till Dawn (1996)\n",
            "4. Tales from the Crypt Presents: Bordello of Blood (1996)\n",
            "5. Fifth Element, The (1997)\n"
          ]
        }
      ]
    },
    {
      "cell_type": "markdown",
      "source": [
        "## Evaluasi Deskriptif:\n",
        "\n",
        "- Film yang direkomendasikan mayoritas bergenre sci-fi, horror, dan thriller, menunjukkan bahwa user ID 28 kemungkinan menyukai film dengan tema aksi, kekerasan, atau supranatural.\n",
        "\n",
        "- Sistem menggunakan cosine similarity antar pengguna untuk menemukan pengguna mirip, lalu merekomendasikan film yang belum ditonton tapi disukai pengguna tersebut.\n",
        "\n",
        "- Film seperti Alien dan The Fifth Element populer dan sering mendapat rating tinggi, mendukung kualitas rekomendasi.\n",
        "\n",
        "- Namun, jika riwayat rating user 28 masih sedikit, rekomendasi bisa terlalu dipengaruhi satu pengguna mirip saja."
      ],
      "metadata": {
        "id": "LHBG5pFsd-3T"
      }
    }
  ]
}